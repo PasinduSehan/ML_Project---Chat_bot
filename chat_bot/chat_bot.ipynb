{
 "cells": [
  {
   "cell_type": "code",
   "execution_count": 3,
   "id": "d2653e22-9b48-4d96-84f7-8e098caa347d",
   "metadata": {},
   "outputs": [
    {
     "name": "stdout",
     "output_type": "stream",
     "text": [
      "Doc Bot: I am Doc bot. I will answer your questions.\n"
     ]
    },
    {
     "name": "stdin",
     "output_type": "stream",
     "text": [
      " what is your name\n"
     ]
    },
    {
     "name": "stdout",
     "output_type": "stream",
     "text": [
      "Doc Bot: My name is Kavi. How can I help you? Ask me any question and I will give you the best answer I know.\n"
     ]
    },
    {
     "name": "stdin",
     "output_type": "stream",
     "text": [
      " car\n"
     ]
    },
    {
     "name": "stdout",
     "output_type": "stream",
     "text": [
      "Doc Bot:  Some car hacking through on-board diagnostics (OBD) has been done so far.[120]\n",
      "\n",
      "Car sharing\n",
      "\n",
      "Car-share arrangements and carpooling are also increasingly popular, in the US and Europe.[121] For example, in the US, some car-sharing services have experienced double-digit growth in revenue and membership growth between 2006 and 2007 Services like car sharing offer residents to \"share\" a vehicle rather than own a car in already congested neighbourhoods.[122]\n",
      "\n",
      "Industry\n",
      "\n",
      "A car being assembled in a factory\n",
      "\n",
      "The automotive industry designs, develops, manufactures, markets, and sells the world's motor vehicles, more than three-quarters of which are cars These include air conditioning, navigation systems, and in-car entertainment\n"
     ]
    },
    {
     "name": "stdin",
     "output_type": "stream",
     "text": [
      " kavisha\n"
     ]
    },
    {
     "name": "stdout",
     "output_type": "stream",
     "text": [
      "Doc Bot:  I apologize, I don't understand.\n"
     ]
    },
    {
     "name": "stdin",
     "output_type": "stream",
     "text": [
      " sri lanka\n"
     ]
    },
    {
     "name": "stdout",
     "output_type": "stream",
     "text": [
      "Doc Bot:  This is a higher percentage of protected areas when compared to the rest of Asia.[191]\n",
      "\n",
      "Sri Lanka contains four terrestrial ecoregions: Sri Lanka lowland rain forests, Sri Lanka montane rain forests, Sri Lanka dry-zone dry evergreen forests, and Deccan thorn scrub forests.[192] Flowering acacias flourish on the arid Jaffna Peninsula The highest is Bambarakanda Falls, with a height of 263 metres (863 ft).[175] Sri Lanka's coastline is 1,585 km (985 mi) long.[176] Sri Lanka claims an exclusive economic zone extending 200 nautical miles, which is approximately 6.7 times Sri Lanka's land area While ensuring that it maintains its independence, Sri Lanka has cultivated relations with India.[240] Sri Lanka became a member of the United Nations in 1955\n"
     ]
    },
    {
     "name": "stdin",
     "output_type": "stream",
     "text": [
      " what is ai\n"
     ]
    },
    {
     "name": "stdout",
     "output_type": "stream",
     "text": [
      "Doc Bot:  Critics such as Noam Chomsky argue continuing research into symbolic AI will still be necessary to attain general intelligence, in part because sub-symbolic AI is a move away from explainable AI: it can be difficult or impossible to understand why a modern statistical AI program made a particular decision For example, it is easy to imagine a color-blind person who has learned to identify which objects in their field of view are red, but it is not clear what would be required for the person to know what red looks like.\n",
      "\n",
      "Computationalism and functionalism\n",
      "\n",
      "Computationalism is the position in the philosophy of mind that the human mind is an information processing system and that thinking is a form of computing Brian Christian wrote that experts have pivoted \"from the question of 'what they know' to the question of 'what they're doing with it'.\"\n",
      "\n",
      "Generative AI is often trained on unlicensed copyrighted works, including in domains such as images or computer code; the output is then used under the rationale of \"fair use\"\n"
     ]
    },
    {
     "name": "stdin",
     "output_type": "stream",
     "text": [
      " bye\n"
     ]
    },
    {
     "name": "stdout",
     "output_type": "stream",
     "text": [
      "Doc Bot: Okay, Bye... Chat with you later!\n"
     ]
    }
   ],
   "source": [
    "from newspaper import Article\n",
    "from sklearn.feature_extraction.text import CountVectorizer\n",
    "from sklearn.metrics.pairwise import cosine_similarity\n",
    "import random\n",
    "\n",
    "# List of URLs to be processed\n",
    "urls = [\n",
    "    'https://en.wikipedia.org/wiki/Sri_Lanka',\n",
    "    'https://en.wikipedia.org/wiki/Car',\n",
    "    'https://en.wikipedia.org/wiki/Artificial_intelligence'  # Add your new URL here\n",
    "]\n",
    "\n",
    "# List to hold the text content of the articles\n",
    "corpus_list = []\n",
    "\n",
    "for url in urls:\n",
    "    article = Article(url)\n",
    "    article.download()\n",
    "    article.parse()\n",
    "    article.nlp()\n",
    "    corpus_list.append(article.text)\n",
    "\n",
    "# Combine texts into a single corpus\n",
    "sentence_list = []\n",
    "for corpus in corpus_list:\n",
    "    sentence_list.extend(corpus.split('. '))  # Split text into sentences\n",
    "\n",
    "\n",
    "# Function to return a random greeting response to a user's greeting\n",
    "def greeting_response(text):\n",
    "    text = text.lower()\n",
    "\n",
    "    # bot's greeting responses\n",
    "    bot_greetings = ['howdy', 'hi', 'hey', 'hello', 'hola']\n",
    "    # user greetings\n",
    "    user_greetings = ['hi', 'howdy', 'hello', 'greeting', 'watsup']\n",
    "\n",
    "    for word in text.split():\n",
    "        if word in user_greetings:\n",
    "            return random.choice(bot_greetings)\n",
    "\n",
    "# Function to sort indices based on the values in list_var\n",
    "def index_sort(list_var):\n",
    "    length = len(list_var)\n",
    "    list_index = list(range(length))\n",
    "\n",
    "    for i in range(length):\n",
    "        for j in range(length):\n",
    "            if list_var[list_index[i]] > list_var[list_index[j]]:\n",
    "                # swap\n",
    "                temp = list_index[i]\n",
    "                list_index[i] = list_index[j]\n",
    "                list_index[j] = temp\n",
    "\n",
    "    return list_index\n",
    "\n",
    "# Function to create the bot's response\n",
    "def bot_response(user_input):\n",
    "    user_input = user_input.lower()\n",
    "    sentence_list.append(user_input)\n",
    "    bot_response = ''\n",
    "    cm = CountVectorizer().fit_transform(sentence_list)\n",
    "    similarity_scores = cosine_similarity(cm[-1], cm)\n",
    "    similarity_scores_list = similarity_scores.flatten()\n",
    "    sorted_indices = index_sort(similarity_scores_list)\n",
    "    sorted_indices = sorted_indices[1:]  # Exclude the user's input itself\n",
    "    response_flag = 0\n",
    "\n",
    "    j = 0\n",
    "    for i in range(len(sorted_indices)):\n",
    "        if similarity_scores_list[sorted_indices[i]] > 0.0:\n",
    "            bot_response = bot_response + ' ' + sentence_list[sorted_indices[i]]\n",
    "            response_flag = 1\n",
    "            j = j + 1\n",
    "\n",
    "        if j > 2:  # Limit the number of responses\n",
    "            break\n",
    "\n",
    "    if response_flag == 0:\n",
    "        bot_response = bot_response + \" I apologize, I don't understand.\"\n",
    "\n",
    "    sentence_list.remove(user_input)\n",
    "\n",
    "    return bot_response\n",
    "\n",
    "# New function to handle introduction\n",
    "def introduction_response(text):\n",
    "    if \"what is your name\" in text.lower():\n",
    "        return \"My name is Kavi. How can I help you? Ask me any question and I will give you the best answer I know.\"\n",
    "    return None\n",
    "\n",
    "# Start the chat\n",
    "print('Doc Bot: I am Doc bot. I will answer your questions.')\n",
    "\n",
    "exit_list = ['exit', 'see you later', 'bye', 'quit', 'break']\n",
    "\n",
    "while True:\n",
    "    user_input = input()\n",
    "    if user_input.lower() in exit_list:\n",
    "        print('Doc Bot: Okay, Bye... Chat with you later!')\n",
    "        break\n",
    "    else:\n",
    "        if greeting_response(user_input):\n",
    "            print('Doc Bot: ' + greeting_response(user_input))\n",
    "        elif introduction_response(user_input):\n",
    "            print('Doc Bot: ' + introduction_response(user_input))\n",
    "        else:\n",
    "            print('Doc Bot: ' + bot_response(user_input))\n"
   ]
  },
  {
   "cell_type": "code",
   "execution_count": null,
   "id": "26adc867-bd6d-4b35-82c5-9855a91f292e",
   "metadata": {},
   "outputs": [],
   "source": []
  }
 ],
 "metadata": {
  "kernelspec": {
   "display_name": "Python 3 (ipykernel)",
   "language": "python",
   "name": "python3"
  },
  "language_info": {
   "codemirror_mode": {
    "name": "ipython",
    "version": 3
   },
   "file_extension": ".py",
   "mimetype": "text/x-python",
   "name": "python",
   "nbconvert_exporter": "python",
   "pygments_lexer": "ipython3",
   "version": "3.11.7"
  }
 },
 "nbformat": 4,
 "nbformat_minor": 5
}
