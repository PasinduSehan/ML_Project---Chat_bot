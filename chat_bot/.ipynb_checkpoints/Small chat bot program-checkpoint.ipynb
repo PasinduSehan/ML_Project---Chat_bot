{
 "cells": [
  {
   "cell_type": "code",
   "execution_count": null,
   "id": "1b011e68-1431-42a6-b344-ff4f39772c31",
   "metadata": {
    "scrolled": true
   },
   "outputs": [],
   "source": [
    "pip install nltk"
   ]
  },
  {
   "cell_type": "code",
   "execution_count": null,
   "id": "dd156afd-af66-4a8a-a6c9-78cba5d2459e",
   "metadata": {},
   "outputs": [],
   "source": [
    "pip install newspaper3k"
   ]
  },
  {
   "cell_type": "code",
   "execution_count": null,
   "id": "9da5087f-3087-4fe7-931a-cbd872570e6e",
   "metadata": {},
   "outputs": [],
   "source": [
    "#import the library\n",
    "from newspaper import Article\n",
    "import random\n",
    "import string\n",
    "import nltk\n",
    "from sklearn.feature_extraction.text import CountVectorizer\n",
    "from sklearn.metrics.pairwise import cosine_similarity\n",
    "import numpy as np\n",
    "import warnings\n",
    "warnings.filterwarnings('ignore')"
   ]
  },
  {
   "cell_type": "code",
   "execution_count": null,
   "id": "c91f7925-1401-4815-b00f-7b61e8fa56a7",
   "metadata": {},
   "outputs": [],
   "source": [
    "#dounload the punkt package\n",
    "nltk.download('punkt', quiet=True)"
   ]
  },
  {
   "cell_type": "code",
   "execution_count": null,
   "id": "b0e1702e-1f34-4ce1-ba14-9c2c57cf73cc",
   "metadata": {},
   "outputs": [],
   "source": [
    "#get the article\n",
    "#article = Article('https://en.wikipedia.org/wiki/Car')\n",
    "article = Article('https://en.wikipedia.org/wiki/Sri_Lanka','https://en.wikipedia.org/wiki/Car')\n",
    "article.download()\n",
    "article.parse()\n",
    "article.nlp()\n",
    "corpus = article.text"
   ]
  },
  {
   "cell_type": "code",
   "execution_count": null,
   "id": "4f75b915-f576-48c6-bce7-c298b1f3a732",
   "metadata": {},
   "outputs": [],
   "source": [
    "#print the article text\n",
    "print(corpus)"
   ]
  },
  {
   "cell_type": "code",
   "execution_count": null,
   "id": "0d688312-2ba0-44ac-adab-bf2975e474e4",
   "metadata": {},
   "outputs": [],
   "source": [
    "#Tokenization\n",
    "text = corpus\n",
    "sentence_list = nltk.sent_tokenize(text) #A list of sentences"
   ]
  },
  {
   "cell_type": "code",
   "execution_count": null,
   "id": "44fb1ea4-09f9-4867-89fd-fd87ce84bd40",
   "metadata": {},
   "outputs": [],
   "source": [
    "#print the list of sentences\n",
    "print(sentence_list)"
   ]
  },
  {
   "cell_type": "code",
   "execution_count": null,
   "id": "6659dce2-8c9f-4000-ae7d-fbe9ab44d9c8",
   "metadata": {},
   "outputs": [],
   "source": []
  },
  {
   "cell_type": "code",
   "execution_count": null,
   "id": "4e802c4b-2b7f-4daf-97c0-3114ef028453",
   "metadata": {},
   "outputs": [],
   "source": [
    "import random\n",
    "\n",
    "# A function to return a random greeting response to a user's greeting\n",
    "def greeting_response(text):\n",
    "    text = text.lower()\n",
    "\n",
    "    # bot's greeting responses\n",
    "    bot_greetings = ['howdy', 'hi', 'hey', 'hello', 'hola']\n",
    "    # user greetings\n",
    "    user_greetings = ['hi', 'howdy', 'hello', 'greeting', 'watsup']\n",
    "\n",
    "    for word in text.split():\n",
    "        if word in user_greetings:\n",
    "            return random.choice(bot_greetings)\n"
   ]
  },
  {
   "cell_type": "code",
   "execution_count": null,
   "id": "d9dc5427-e49d-4b21-af6d-84e52b0fe48c",
   "metadata": {},
   "outputs": [],
   "source": [
    "def index_sort(list_var):\n",
    "    length = len(list_var)\n",
    "    list_index = list(range(length))\n",
    "\n",
    "    for i in range(length):\n",
    "        for j in range(length):\n",
    "            if list_var[list_index[i]] > list_var[list_index[j]]:\n",
    "                # swap\n",
    "                temp = list_index[i]\n",
    "                list_index[i] = list_index[j]\n",
    "                list_index[j] = temp\n",
    "\n",
    "    return list_index"
   ]
  },
  {
   "cell_type": "code",
   "execution_count": null,
   "id": "09439371-9ac7-455c-ab79-1cc403ce36e1",
   "metadata": {},
   "outputs": [],
   "source": [
    "#create the bots response \n",
    "def bot_response(user_input):\n",
    "    user_input = user_input.lower()\n",
    "    sentence_list.append(user_input)\n",
    "    bot_response = ''\n",
    "    cm = CountVectorizer().fit_transform(sentence_list)\n",
    "    similarity_scores = cosine_similarity(cm[-1], cm)\n",
    "    similarity_scores_list = similarity_scores.flatten()\n",
    "    index = index_sort(similarity_scores_list)\n",
    "    index = index[1:]\n",
    "    response_flag = 0\n",
    "\n",
    "    j = 0\n",
    "    for i in range(len(index)):\n",
    "        if similarity_scores_list[index[i]] > 0.0:\n",
    "            bot_response = bot_response+''+sentence_list[index[i]]\n",
    "            response_flag = 1\n",
    "            j = j+1\n",
    "\n",
    "        if j > 2:\n",
    "            break\n",
    "\n",
    "    if response_flag == 0:\n",
    "        bot_response = bot_response+''+\"I apologize, I don't understand.\"\n",
    "\n",
    "    sentence_list.remove(user_input)\n",
    "\n",
    "    return bot_response"
   ]
  },
  {
   "cell_type": "code",
   "execution_count": null,
   "id": "b2036e4e-a58a-42c2-9515-f101cd11e2b4",
   "metadata": {},
   "outputs": [],
   "source": [
    "#Start the chat\n",
    "print('Doc Bot: I am Doc bot.I will answer your question')\n",
    "\n",
    "exit_list = ['exit', 'see you later', 'bye', 'quit', 'break']\n",
    "\n",
    "while(True):\n",
    "    user_input = input()\n",
    "    if user_input.lower() in exit_list:\n",
    "        print('Doc Bot: Okay, Bye...Chat with your later!')\n",
    "        break\n",
    "    else:\n",
    "        if greeting_response(user_input) != None:\n",
    "            print('Doc Bot: '+greeting_response(user_input))\n",
    "        else:\n",
    "            print('Doc Bot: '+bot_response(user_input))"
   ]
  },
  {
   "cell_type": "code",
   "execution_count": null,
   "id": "28cee827-5423-4f38-9c47-985d1437de40",
   "metadata": {},
   "outputs": [],
   "source": []
  },
  {
   "cell_type": "code",
   "execution_count": null,
   "id": "d89a69fe-56be-414a-bce2-1320981d936f",
   "metadata": {},
   "outputs": [],
   "source": []
  }
 ],
 "metadata": {
  "kernelspec": {
   "display_name": "Python 3 (ipykernel)",
   "language": "python",
   "name": "python3"
  },
  "language_info": {
   "codemirror_mode": {
    "name": "ipython",
    "version": 3
   },
   "file_extension": ".py",
   "mimetype": "text/x-python",
   "name": "python",
   "nbconvert_exporter": "python",
   "pygments_lexer": "ipython3",
   "version": "3.11.7"
  }
 },
 "nbformat": 4,
 "nbformat_minor": 5
}
