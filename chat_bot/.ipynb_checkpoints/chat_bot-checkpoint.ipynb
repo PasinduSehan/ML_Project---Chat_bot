{
 "cells": [
  {
   "cell_type": "code",
   "execution_count": 1,
   "id": "d2653e22-9b48-4d96-84f7-8e098caa347d",
   "metadata": {},
   "outputs": [
    {
     "name": "stdout",
     "output_type": "stream",
     "text": [
      "Article 1 text:\n",
      "Island country in South Asia\n",
      "\n",
      "\"Ceylon\" redirects here. For other uses, see Ceylon (disambiguation)\n",
      "\n",
      "You may need rendering support to display the Indic text in this article correctly.\n",
      "\n",
      "Sri Lanka,[a] historically known as Ceylon,[b] and officially the Democratic Socialist Republic of Sri Lanka, is an island country in South Asia. It lies in the Indian Ocean, southwest of the Bay of Bengal, separated from the Indian peninsula by the Gulf of Mannar and the Palk Strait. It shares a maritime border w...\n",
      "\n",
      "Article 2 text:\n",
      "Motorised passenger road vehicle\n",
      "\n",
      "A car, or an automobile, is a motor vehicle with wheels. Most definitions of cars state that they run primarily on roads, seat one to eight people, have four wheels, and mainly transport people over cargo.[1][2]\n",
      "\n",
      "The French inventor Nicolas-Joseph Cugnot built the first steam-powered road vehicle in 1769, while the Swiss inventor François Isaac de Rivaz designed and constructed the first internal combustion-powered automobile in 1808. The modern car—a practical,...\n",
      "\n",
      "Article 3 text:\n",
      "Intelligence of machines\n",
      "\n",
      "Artificial intelligence (AI), in its broadest sense, is intelligence exhibited by machines, particularly computer systems. It is a field of research in computer science that develops and studies methods and software that enable machines to perceive their environment and use learning and intelligence to take actions that maximize their chances of achieving defined goals. Such machines may be called AIs.\n",
      "\n",
      "Some high-profile applications of AI include advanced web search en...\n",
      "\n",
      "Doc Bot: I am Doc bot. I will answer your questions.\n"
     ]
    },
    {
     "name": "stdin",
     "output_type": "stream",
     "text": [
      " ai\n"
     ]
    },
    {
     "name": "stdout",
     "output_type": "stream",
     "text": [
      "Doc Bot:  Critics such as Noam Chomsky argue continuing research into symbolic AI will still be necessary to attain general intelligence, in part because sub-symbolic AI is a move away from explainable AI: it can be difficult or impossible to understand why a modern statistical AI program made a particular decision However, many AI applications are not perceived as AI: \"A lot of cutting edge AI has filtered into general applications, often without being called AI because once something becomes useful enough and common enough it's not labeled AI anymore.\"[3][4]\n",
      "\n",
      "Alan Turing was the first person to conduct substantial research in the field that he called machine intelligence.[5] Artificial intelligence was founded as an academic discipline in 1956,[6] by those now considered the founding fathers of AI: John McCarthy, Marvin Minksy, Nathaniel Rochester, and Claude Shannon.[7][8] The field went through multiple cycles of optimism,[9][10] followed by periods of disappointment and loss of funding, known as AI winter.[11][12] Funding and interest vastly increased after 2012 when deep learning surpassed all previous AI techniques,[13] and after 2017 with the transformer architecture The \"AI winter\", a period when obtaining funding for AI projects was difficult, followed.[11]\n",
      "\n",
      "In the early 1980s, AI research was revived by the commercial success of expert systems,[304] a form of AI program that simulated the knowledge and analytical skills of human experts\n"
     ]
    },
    {
     "name": "stdin",
     "output_type": "stream",
     "text": [
      " what is your name\n"
     ]
    },
    {
     "name": "stdout",
     "output_type": "stream",
     "text": [
      "Doc Bot: My name is Kavi. How can I help you? Ask me any question and I will give you the best answer I know.\n"
     ]
    },
    {
     "name": "stdin",
     "output_type": "stream",
     "text": [
      " bye\n"
     ]
    },
    {
     "name": "stdout",
     "output_type": "stream",
     "text": [
      "Doc Bot: Okay, Bye... Chat with you later!\n"
     ]
    }
   ],
   "source": [
    "from newspaper import Article\n",
    "from sklearn.feature_extraction.text import CountVectorizer\n",
    "from sklearn.metrics.pairwise import cosine_similarity\n",
    "import random\n",
    "\n",
    "# List of URLs to be processed\n",
    "urls = [\n",
    "    'https://en.wikipedia.org/wiki/Sri_Lanka',\n",
    "    'https://en.wikipedia.org/wiki/Car',\n",
    "    'https://en.wikipedia.org/wiki/Artificial_intelligence'  # Add your new URL here\n",
    "]\n",
    "\n",
    "# List to hold the text content of the articles\n",
    "corpus_list = []\n",
    "\n",
    "for url in urls:\n",
    "    article = Article(url)\n",
    "    article.download()\n",
    "    article.parse()\n",
    "    article.nlp()\n",
    "    corpus_list.append(article.text)\n",
    "\n",
    "# Combine texts into a single corpus\n",
    "sentence_list = []\n",
    "for corpus in corpus_list:\n",
    "    sentence_list.extend(corpus.split('. '))  # Split text into sentences\n",
    "\n",
    "\n",
    "# Function to return a random greeting response to a user's greeting\n",
    "def greeting_response(text):\n",
    "    text = text.lower()\n",
    "\n",
    "    # bot's greeting responses\n",
    "    bot_greetings = ['howdy', 'hi', 'hey', 'hello', 'hola']\n",
    "    # user greetings\n",
    "    user_greetings = ['hi', 'howdy', 'hello', 'greeting', 'watsup']\n",
    "\n",
    "    for word in text.split():\n",
    "        if word in user_greetings:\n",
    "            return random.choice(bot_greetings)\n",
    "\n",
    "# Function to sort indices based on the values in list_var\n",
    "def index_sort(list_var):\n",
    "    length = len(list_var)\n",
    "    list_index = list(range(length))\n",
    "\n",
    "    for i in range(length):\n",
    "        for j in range(length):\n",
    "            if list_var[list_index[i]] > list_var[list_index[j]]:\n",
    "                # swap\n",
    "                temp = list_index[i]\n",
    "                list_index[i] = list_index[j]\n",
    "                list_index[j] = temp\n",
    "\n",
    "    return list_index\n",
    "\n",
    "# Function to create the bot's response\n",
    "def bot_response(user_input):\n",
    "    user_input = user_input.lower()\n",
    "    sentence_list.append(user_input)\n",
    "    bot_response = ''\n",
    "    cm = CountVectorizer().fit_transform(sentence_list)\n",
    "    similarity_scores = cosine_similarity(cm[-1], cm)\n",
    "    similarity_scores_list = similarity_scores.flatten()\n",
    "    sorted_indices = index_sort(similarity_scores_list)\n",
    "    sorted_indices = sorted_indices[1:]  # Exclude the user's input itself\n",
    "    response_flag = 0\n",
    "\n",
    "    j = 0\n",
    "    for i in range(len(sorted_indices)):\n",
    "        if similarity_scores_list[sorted_indices[i]] > 0.0:\n",
    "            bot_response = bot_response + ' ' + sentence_list[sorted_indices[i]]\n",
    "            response_flag = 1\n",
    "            j = j + 1\n",
    "\n",
    "        if j > 2:  # Limit the number of responses\n",
    "            break\n",
    "\n",
    "    if response_flag == 0:\n",
    "        bot_response = bot_response + \" I apologize, I don't understand.\"\n",
    "\n",
    "    sentence_list.remove(user_input)\n",
    "\n",
    "    return bot_response\n",
    "\n",
    "# New function to handle introduction\n",
    "def introduction_response(text):\n",
    "    if \"what is your name\" in text.lower():\n",
    "        return \"My name is Kavi. How can I help you? Ask me any question and I will give you the best answer I know.\"\n",
    "    return None\n",
    "\n",
    "# Start the chat\n",
    "print('Doc Bot: I am Doc bot. I will answer your questions.')\n",
    "\n",
    "exit_list = ['exit', 'see you later', 'bye', 'quit', 'break']\n",
    "\n",
    "while True:\n",
    "    user_input = input()\n",
    "    if user_input.lower() in exit_list:\n",
    "        print('Doc Bot: Okay, Bye... Chat with you later!')\n",
    "        break\n",
    "    else:\n",
    "        if greeting_response(user_input):\n",
    "            print('Doc Bot: ' + greeting_response(user_input))\n",
    "        elif introduction_response(user_input):\n",
    "            print('Doc Bot: ' + introduction_response(user_input))\n",
    "        else:\n",
    "            print('Doc Bot: ' + bot_response(user_input))\n"
   ]
  },
  {
   "cell_type": "code",
   "execution_count": null,
   "id": "26adc867-bd6d-4b35-82c5-9855a91f292e",
   "metadata": {},
   "outputs": [],
   "source": []
  }
 ],
 "metadata": {
  "kernelspec": {
   "display_name": "Python 3 (ipykernel)",
   "language": "python",
   "name": "python3"
  },
  "language_info": {
   "codemirror_mode": {
    "name": "ipython",
    "version": 3
   },
   "file_extension": ".py",
   "mimetype": "text/x-python",
   "name": "python",
   "nbconvert_exporter": "python",
   "pygments_lexer": "ipython3",
   "version": "3.11.7"
  }
 },
 "nbformat": 4,
 "nbformat_minor": 5
}
